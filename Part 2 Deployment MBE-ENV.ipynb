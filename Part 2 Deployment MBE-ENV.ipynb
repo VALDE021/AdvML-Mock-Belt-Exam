{
 "cells": [
  {
   "cell_type": "markdown",
   "id": "aacae29a-b9d1-44e1-bfbe-e9d526b06da6",
   "metadata": {},
   "source": [
    "# <u>Part 2 Deployment:\n",
    "- For this part of the exam, you will create a Streamlit app that will allow users to predict the price of a home by inputting certain information about it. It will include inputs for features of the home and produce a predicted price"
   ]
  },
  {
   "cell_type": "markdown",
   "id": "a5e3f199-af31-48ce-ad81-ead2c8fa16b7",
   "metadata": {},
   "source": [
    "- ## Use the filepaths dictionary to load in the provided ML model and training data (X_train, y_train) to determine which features were used and the range of values included in each feature. If you receive an error about no module named dill, run “!pip install dill” in your notebook before using joblib.load\n",
    "    - ### `Tip:` Explore the original X_train values to determine what the features were and which widgets/components and values would be appropriate for each feature."
   ]
  },
  {
   "cell_type": "code",
   "execution_count": null,
   "id": "6c05f604-2a84-47c4-9573-6b38e1950acf",
   "metadata": {},
   "outputs": [],
   "source": [
    "pip install dill"
   ]
  },
  {
   "cell_type": "markdown",
   "id": "9bdd0b3a-8b39-48da-b1d9-115137549ad8",
   "metadata": {},
   "source": [
    "## `Load in the filepaths.json file from the config folder.`"
   ]
  },
  {
   "cell_type": "code",
   "execution_count": null,
   "id": "44edecbf-b45f-4f94-a0fe-410a5787fc26",
   "metadata": {},
   "outputs": [],
   "source": [
    "# import joblib\n",
    "import joblib, json\n",
    "with open('config/filepaths.json') as f:\n",
    "    FPATHS = json.load(f)\n",
    "FPATHS"
   ]
  },
  {
   "cell_type": "code",
   "execution_count": null,
   "id": "2bf25909-7bc4-49c6-a8b0-6246f09c2007",
   "metadata": {},
   "outputs": [],
   "source": [
    "import streamlit as st\n",
    "@st.cache_data\n",
    "def load_Xy_data(fpath):\n",
    "    train_path = fpath['data']['ml']['train']\n",
    "    X_train, y_train =  joblib.load(train_path)\n",
    "    test_path = fpath['data']['ml']['test']\n",
    "    X_test, y_test = joblib.load(test_path)\n",
    "    return X_train, y_train, X_test, y_test\n",
    " \n",
    "@st.cache_resource\n",
    "def load_model_ml(fpath):\n",
    "    model_path = fpath['models']['linear_regression']\n",
    "    linreg = joblib.load(model_path)\n",
    "    return linreg"
   ]
  },
  {
   "cell_type": "code",
   "execution_count": null,
   "id": "09972f91-bcc3-4545-b20c-685d7927bb2f",
   "metadata": {},
   "outputs": [],
   "source": [
    "X_train, y_train, X_test, y_test = load_Xy_data(FPATHS)"
   ]
  },
  {
   "cell_type": "code",
   "execution_count": null,
   "id": "5867ac9a-bb10-47bb-8a17-f2b6ecb75a6c",
   "metadata": {},
   "outputs": [],
   "source": [
    "X_test.head()"
   ]
  },
  {
   "cell_type": "code",
   "execution_count": null,
   "id": "1d495e82-5723-4924-9fb9-ca24adac6aa8",
   "metadata": {},
   "outputs": [],
   "source": [
    "X_train.info()"
   ]
  },
  {
   "cell_type": "code",
   "execution_count": null,
   "id": "0446a3d4-8a43-446b-9afa-915657a59047",
   "metadata": {},
   "outputs": [],
   "source": [
    "linreg_model = load_model_ml(FPATHS)"
   ]
  },
  {
   "cell_type": "code",
   "execution_count": null,
   "id": "204079a8-1c03-4163-a0fa-1eab8ddb3bf4",
   "metadata": {},
   "outputs": [],
   "source": [
    "linreg_model"
   ]
  },
  {
   "cell_type": "code",
   "execution_count": null,
   "id": "274ef98a-7788-4758-8b7a-240b054275ef",
   "metadata": {},
   "outputs": [],
   "source": [
    "X_train.describe()"
   ]
  },
  {
   "cell_type": "code",
   "execution_count": null,
   "id": "b0474584-fd0d-4bc1-88cc-ef7f15d0fbd2",
   "metadata": {},
   "outputs": [],
   "source": [
    "import streamlit as st\n",
    "#bedrooms\n",
    "bedrooms = st.sidebar.slider('Bedrooms',\n",
    "                            min_value = X_train['bedrooms'].min(),\n",
    "                            max_value = X_train['bedrooms'].max(),\n",
    "                            step = 1, value = 3)"
   ]
  },
  {
   "cell_type": "code",
   "execution_count": null,
   "id": "25ce153f-10ec-46cf-9c4b-dd94ac3a537f",
   "metadata": {},
   "outputs": [],
   "source": [
    "bedrooms"
   ]
  },
  {
   "cell_type": "code",
   "execution_count": null,
   "id": "90fd9419-607b-4634-bfbf-82ad707a405f",
   "metadata": {},
   "outputs": [],
   "source": [
    "#bathrooms\n",
    "bathrooms = st.sidebar.slider('Bathrooms',\n",
    "                             min_value = X_train['bathrooms'].min(),\n",
    "                             max_value = X_train['bathrooms'].max(),\n",
    "                             step = .25, value = 2.5)"
   ]
  },
  {
   "cell_type": "code",
   "execution_count": null,
   "id": "a631935f-0ee4-4884-947d-6f8af268c0f2",
   "metadata": {},
   "outputs": [],
   "source": [
    "bathrooms"
   ]
  },
  {
   "cell_type": "code",
   "execution_count": null,
   "id": "6eb63926-f9e2-4ad5-83e1-f4b3b2f1a54f",
   "metadata": {},
   "outputs": [],
   "source": [
    "#sqft_living\n",
    "sqft_living = st.sidebar.number_input('Sqft Living Area',\n",
    "                                     min_value=290,\n",
    "                                     max_value=X_train['sqft_living'].max(),\n",
    "                                     step=150, value=2500)"
   ]
  },
  {
   "cell_type": "code",
   "execution_count": null,
   "id": "d3e4f0a3-4f08-4865-90e5-edf3ded5b834",
   "metadata": {},
   "outputs": [],
   "source": [
    "# Define function to convert widget values to dataframe\n",
    "import pandas as pd\n",
    "def get_X_to_predict():\n",
    "    X_to_predict = pd.DataFrame({'Bedroom': bedrooms,\n",
    "                                 'Bathroom':bathrooms,\n",
    "                                 'Living Area Sqft':sqft_living},\n",
    "                             index=['House'])\n",
    "    return X_to_predict"
   ]
  },
  {
   "cell_type": "code",
   "execution_count": null,
   "id": "c4c80f6b-1de4-4018-bc3b-cd31d9ddfeca",
   "metadata": {},
   "outputs": [],
   "source": [
    "def get_prediction(model,X_to_predict):\n",
    "    return  model.predict(X_to_predict)[0]"
   ]
  },
  {
   "cell_type": "code",
   "execution_count": null,
   "id": "43deac59-cc06-442d-a6b2-e963f142e5bf",
   "metadata": {},
   "outputs": [],
   "source": [
    "X_to_pred = get_X_to_predict()\n",
    "X_to_pred"
   ]
  },
  {
   "cell_type": "code",
   "execution_count": null,
   "id": "4dd9aac3-49f6-4b48-8eff-154a10526a21",
   "metadata": {},
   "outputs": [],
   "source": [
    "type(X_to_pred)"
   ]
  },
  {
   "cell_type": "code",
   "execution_count": null,
   "id": "31c34756-9ebf-4a17-943b-e79714522adc",
   "metadata": {},
   "outputs": [],
   "source": [
    "X_train['bedrooms'].max()"
   ]
  }
 ],
 "metadata": {
  "kernelspec": {
   "display_name": "Python (dojo-env)",
   "language": "python",
   "name": "dojo-env"
  },
  "language_info": {
   "codemirror_mode": {
    "name": "ipython",
    "version": 3
   },
   "file_extension": ".py",
   "mimetype": "text/x-python",
   "name": "python",
   "nbconvert_exporter": "python",
   "pygments_lexer": "ipython3",
   "version": "3.10.11"
  },
  "widgets": {
   "application/vnd.jupyter.widget-state+json": {
    "state": {},
    "version_major": 2,
    "version_minor": 0
   }
  }
 },
 "nbformat": 4,
 "nbformat_minor": 5
}
